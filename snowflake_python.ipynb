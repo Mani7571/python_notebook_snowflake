{
 "metadata": {
  "kernelspec": {
   "display_name": "base",
   "language": "python",
   "name": "python3"
  },
  "language_info": {
   "codemirror_mode": {
    "name": "ipython",
    "version": 3
   },
   "file_extension": ".py",
   "mimetype": "text/x-python",
   "name": "python",
   "nbconvert_exporter": "python",
   "pygments_lexer": "ipython3",
   "version": "3.11.7"
  }
 },
 "nbformat_minor": 2,
 "nbformat": 4,
 "cells": [
  {
   "cell_type": "code",
   "id": "1c1d352b-05bb-463d-81f2-cee29d078f29",
   "metadata": {
    "language": "python",
    "name": "cell1"
   },
   "outputs": [],
   "source": "from snowflake.snowpark.context import get_active_session\nfrom snowflake.snowpark.functions import col,when",
   "execution_count": null
  },
  {
   "cell_type": "code",
   "id": "cb0d89d6-6c8c-4f04-9dff-4440a23dd47a",
   "metadata": {
    "language": "python",
    "name": "cell2"
   },
   "outputs": [],
   "source": "session=get_active_session()",
   "execution_count": null
  },
  {
   "cell_type": "code",
   "id": "6e67b5e2-435f-41a4-b816-281dba3e9def",
   "metadata": {
    "language": "python",
    "name": "cell3"
   },
   "outputs": [],
   "source": "df=session.table(\"emp\")",
   "execution_count": null
  },
  {
   "cell_type": "code",
   "id": "b2d49b2f-7bed-4180-8298-7146c7eae550",
   "metadata": {
    "language": "python",
    "name": "cell4"
   },
   "outputs": [],
   "source": "df_2=df.with_column(\"salary+bonus\",when(col(\"salary\")>5000,col(\"salary\")+col(\"salary\")*.10).otherwise(col(\"salary\")))",
   "execution_count": null
  },
  {
   "cell_type": "code",
   "id": "5dbf514c-e03a-4724-b904-ae370ec37325",
   "metadata": {
    "language": "python",
    "name": "cell5"
   },
   "outputs": [],
   "source": "final_df=df_2.with_column(\"bonus\",when(col(\"salary\")>5000,col(\"salary\")*.10).otherwise(col(\"salary\")*.05))",
   "execution_count": null
  },
  {
   "cell_type": "code",
   "id": "4054f1a1-3731-4548-aed1-bff26bee2d0e",
   "metadata": {
    "language": "python",
    "name": "cell7"
   },
   "outputs": [],
   "source": "final_df.show()",
   "execution_count": null
  }
 ]
}